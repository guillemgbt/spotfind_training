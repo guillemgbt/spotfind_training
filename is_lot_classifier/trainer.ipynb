{
 "cells": [
  {
   "cell_type": "code",
   "execution_count": 11,
   "metadata": {},
   "outputs": [],
   "source": [
    "import tensorflow as tf\n",
    "from tensorflow.contrib.layers import flatten\n",
    "import matplotlib.pyplot as plt\n",
    "import numpy as np\n",
    "import pandas as pd\n",
    "import os\n",
    "import cv2\n",
    "from sklearn.utils import shuffle\n",
    "import matplotlib.image as mpimg \n",
    "import matplotlib.pyplot as plt\n",
    "from sklearn.preprocessing import OneHotEncoder "
   ]
  },
  {
   "cell_type": "code",
   "execution_count": null,
   "metadata": {},
   "outputs": [],
   "source": []
  },
  {
   "cell_type": "code",
   "execution_count": 12,
   "metadata": {},
   "outputs": [],
   "source": [
    "class DatasetParser():\n",
    "    def __init__(self):\n",
    "        self.csv_path = 'IsLotDataset/path_and_labels.csv'\n",
    "        self.IMAGE_PATH_KEY = 'image_path'\n",
    "        self.IS_LOT_KEY = 'is_lot'\n",
    "        self.split = 1000\n",
    "       \n",
    "    \n",
    "    def load(self):\n",
    "        df = self.load_origin_dataframe()\n",
    "        image_paths = df[self.IMAGE_PATH_KEY].tolist()\n",
    "        images = np.array([mpimg.imread('IsLotDataset/'+path)/255.0 for path in image_paths])\n",
    "        images = images.reshape(images.shape[0],images.shape[1],images.shape[2],1)\n",
    "        labels = np.array(df[self.IS_LOT_KEY].tolist())\n",
    "        labels = labels.reshape(len(labels),1)\n",
    "        images, labels = self.unison_shuffled_copies(images, labels)\n",
    "        onehotencoder = OneHotEncoder()\n",
    "        labels = onehotencoder.fit_transform(labels).toarray()\n",
    "        return (images[0:self.split], labels[0:self.split], images[self.split:], labels[self.split:])\n",
    "    \n",
    "    def unison_shuffled_copies(self, a, b):\n",
    "        assert len(a) == len(b)\n",
    "        p = np.random.permutation(len(a))\n",
    "        return a[p], b[p]\n",
    "\n",
    "        \n",
    "    def load_origin_dataframe(self):\n",
    "        if os.path.exists(self.csv_path):\n",
    "            df = pd.read_csv(self.csv_path, sep=',')\n",
    "            return df\n",
    "        else:\n",
    "            print('Could not load '+ORIGIN_CSV)\n",
    "            return None\n",
    "        "
   ]
  },
  {
   "cell_type": "code",
   "execution_count": 13,
   "metadata": {},
   "outputs": [],
   "source": [
    "parser = DatasetParser()\n",
    "\n",
    "(train_imgs, train_labels, test_imgs, test_labels) = parser.load()"
   ]
  },
  {
   "cell_type": "code",
   "execution_count": 14,
   "metadata": {},
   "outputs": [
    {
     "name": "stdout",
     "output_type": "stream",
     "text": [
      "\n",
      "X daya Shape: (1000, 128, 128, 1)\n",
      "Image Shape: (128, 128, 1)\n",
      "Y data Shape: (1000, 2)\n",
      "Label Shape: (2,)\n",
      "\n",
      "Training Set:   1000 samples\n",
      "Test Set:       95 samples\n"
     ]
    }
   ],
   "source": [
    "print()\n",
    "print(\"X daya Shape: {}\".format(train_imgs.shape))\n",
    "print(\"Image Shape: {}\".format(train_imgs[0].shape))\n",
    "print(\"Y data Shape: {}\".format(train_labels.shape))\n",
    "print(\"Label Shape: {}\".format(train_labels[0].shape))\n",
    "print()\n",
    "print(\"Training Set:   {} samples\".format(len(train_imgs)))\n",
    "print(\"Test Set:       {} samples\".format(len(test_imgs)))"
   ]
  },
  {
   "cell_type": "code",
   "execution_count": 15,
   "metadata": {},
   "outputs": [],
   "source": [
    "class ImprovedLenet5():\n",
    "\n",
    "    def __init__(self, classes, learning_rate=0.0005):\n",
    "\n",
    "        #tf.reset_default_graph()\n",
    "        \n",
    "        self.learning_rate = learning_rate\n",
    "        self.X = tf.placeholder(tf.float32, (None, 128, 128, 1))\n",
    "        self.Y = tf.placeholder(tf.float32, [None, classes])\n",
    "        self.keep_prob = tf.placeholder(tf.float32)\n",
    "\n",
    "        mu = 0\n",
    "        sigma = 0.1\n",
    "\n",
    "        #Layer 1: Convolutional. Input = 128x128x1. Output = 124x124x8.\n",
    "        conv1_w = tf.Variable(tf.truncated_normal(shape = [5,5,1,8],mean = mu, stddev = sigma))\n",
    "        conv1_b = tf.Variable(tf.zeros(8))\n",
    "        conv1 = tf.nn.conv2d(self.X,conv1_w, strides = [1,1,1,1], padding = 'VALID') + conv1_b \n",
    "        conv1 = tf.nn.relu(conv1)\n",
    "\n",
    "        #Pooling. Input = 124x124x8. Output = 62x62x8.\n",
    "        pool_1 = tf.nn.max_pool(conv1,ksize = [1,2,2,1], strides = [1,2,2,1], padding = 'VALID')\n",
    "\n",
    "        #Layer 2: Convolutional. Output = 58x58x16.\n",
    "        conv2_w = tf.Variable(tf.truncated_normal(shape = [5,5,8,16], mean = mu, stddev = sigma))\n",
    "        conv2_b = tf.Variable(tf.zeros(16))\n",
    "        conv2 = tf.nn.conv2d(pool_1, conv2_w, strides = [1,1,1,1], padding = 'VALID') + conv2_b\n",
    "        conv2 = tf.nn.relu(conv2)\n",
    "\n",
    "        #Pooling. Input = 58x58x16. Output = 29x29x16.\n",
    "        pool_2 = tf.nn.max_pool(conv2, ksize = [1,2,2,1], strides = [1,2,2,1], padding = 'VALID') \n",
    "\n",
    "        #Flatten. Input = 13x13x16. Output = 13456.\n",
    "        fc1 = flatten(pool_2)\n",
    "\n",
    "        #Layer 3: Fully Connected. Input = 2.704. Output = 256.\n",
    "        fc1_w = tf.Variable(tf.truncated_normal(shape = (13456,256), mean = mu, stddev = sigma))\n",
    "        fc1_b = tf.Variable(tf.zeros(256))\n",
    "        fc1 = tf.matmul(fc1,fc1_w) + fc1_b\n",
    "        fc1 = tf.nn.relu(fc1)\n",
    "        fc1 = tf.nn.dropout(fc1, self.keep_prob)\n",
    "\n",
    "        #Layer 4: Fully Connected. Input = 256. Output = 128.\n",
    "        fc2_w = tf.Variable(tf.truncated_normal(shape = (256,128), mean = mu, stddev = sigma))\n",
    "        fc2_b = tf.Variable(tf.zeros(128))\n",
    "        fc2 = tf.matmul(fc1,fc2_w) + fc2_b\n",
    "        fc2 = tf.nn.relu(fc2)\n",
    "        fc2 = tf.nn.dropout(fc2, self.keep_prob)\n",
    "\n",
    "        #Layer 5: Fully Connected. Input = 128. Output = 64.\n",
    "        fc3_w = tf.Variable(tf.truncated_normal(shape = (128,64), mean = mu, stddev = sigma))\n",
    "        fc3_b = tf.Variable(tf.zeros(64))\n",
    "        fc3 = tf.matmul(fc2,fc3_w) + fc3_b\n",
    "        fc3 = tf.nn.relu(fc3)\n",
    "        fc3 = tf.nn.dropout(fc3, self.keep_prob)\n",
    "\n",
    "        #Layer 6: Fully Connected. Input = 64. Output = classes.\n",
    "        fc4_w = tf.Variable(tf.truncated_normal(shape = (64,classes), mean = mu , stddev = sigma))\n",
    "        fc4_b = tf.Variable(tf.zeros(classes))\n",
    "        self.logits = tf.matmul(fc3, fc4_w) + fc4_b\n",
    "\n",
    "\n",
    "        cross_entropy = tf.nn.softmax_cross_entropy_with_logits(logits=self.logits, labels=self.Y)\n",
    "        self.loss_operation = tf.reduce_mean(cross_entropy)\n",
    "        optimizer = tf.train.AdamOptimizer(learning_rate = self.learning_rate)\n",
    "        self.training_operation = optimizer.minimize(self.loss_operation)\n",
    "\n",
    "        correct_prediction = tf.equal(tf.argmax(self.logits, axis=1), tf.argmax(self.Y, axis=1))\n",
    "        self.accuracy = tf.reduce_mean(tf.cast(correct_prediction, tf.float32))\n",
    "\n",
    "        self.session = tf.Session()\n",
    "\n",
    "\n",
    "    def fit(self, x_data, y_data, batch_size, num_epochs, x_test, y_test):\n",
    "\n",
    "        self.session.run(tf.global_variables_initializer())\n",
    "        num_iterations = int(x_data.shape[0]/batch_size)\n",
    "        historic_accuracy = np.zeros(num_epochs)\n",
    "        historic_loss = np.zeros(num_epochs)\n",
    "\n",
    "        print(\"Training...\")\n",
    "        print()\n",
    "        for epoch in range(num_epochs):\n",
    "            x_data_s, y_data_s = shuffle(x_data, y_data)\n",
    "\n",
    "            for iteration in range(num_iterations):\n",
    "                batch_xs = x_data_s[iteration*batch_size:(iteration+1)*batch_size,:]\n",
    "                batch_ys = y_data_s[iteration*batch_size:(iteration+1)*batch_size,:]\n",
    "                _ = self.session.run([self.training_operation], feed_dict={self.X: batch_xs, self.Y: batch_ys, self.keep_prob: 0.7})\n",
    "            \n",
    "            accuracy_val, loss_val = self.session.run([self.accuracy, self.loss_operation], feed_dict={self.X: batch_xs, self.Y: batch_ys, self.keep_prob: 1.0})\n",
    "            historic_accuracy[epoch] = accuracy_val\n",
    "            historic_loss[epoch] = loss_val\n",
    "            test_acc = self.compute_accuracy(x_test, y_test)\n",
    "            print('Epoch:', '%03d' % (epoch + 1), 'training acc: {}, test acc: {}, loss: {}'.format(accuracy_val, test_acc, loss_val))\n",
    "\n",
    "        print(\"Learning Finished!\")\n",
    "        return historic_accuracy, historic_loss\n",
    "\n",
    "    def predict(self, x_data):\n",
    "        output_values = self.session.run(tf.nn.softmax(self.logits, axis=1), feed_dict={self.X: x_data, self.keep_prob: 1.0})\n",
    "        return output_values\n",
    "\n",
    "    def compute_accuracy(self, x_data, y_data):\n",
    "        accuracy_val = self.session.run(self.accuracy, feed_dict={self.X: x_data, self.Y: y_data, self.keep_prob: 1.0})\n",
    "        return accuracy_val\n"
   ]
  },
  {
   "cell_type": "code",
   "execution_count": 16,
   "metadata": {},
   "outputs": [
    {
     "name": "stdout",
     "output_type": "stream",
     "text": [
      "WARNING:tensorflow:Entity <bound method Flatten.call of <tensorflow.python.layers.core.Flatten object at 0x15023fcf8>> could not be transformed and will be executed as-is. Please report this to the AutgoGraph team. When filing the bug, set the verbosity to 10 (on Linux, `export AUTOGRAPH_VERBOSITY=10`) and attach the full output. Cause: converting <bound method Flatten.call of <tensorflow.python.layers.core.Flatten object at 0x15023fcf8>>: AttributeError: module 'gast' has no attribute 'Num'\n",
      "WARNING: Entity <bound method Flatten.call of <tensorflow.python.layers.core.Flatten object at 0x15023fcf8>> could not be transformed and will be executed as-is. Please report this to the AutgoGraph team. When filing the bug, set the verbosity to 10 (on Linux, `export AUTOGRAPH_VERBOSITY=10`) and attach the full output. Cause: converting <bound method Flatten.call of <tensorflow.python.layers.core.Flatten object at 0x15023fcf8>>: AttributeError: module 'gast' has no attribute 'Num'\n"
     ]
    }
   ],
   "source": [
    "net = ImprovedLenet5(classes=2, learning_rate=0.0005)"
   ]
  },
  {
   "cell_type": "code",
   "execution_count": null,
   "metadata": {},
   "outputs": [],
   "source": []
  },
  {
   "cell_type": "code",
   "execution_count": 17,
   "metadata": {},
   "outputs": [
    {
     "name": "stdout",
     "output_type": "stream",
     "text": [
      "Training...\n",
      "\n",
      "Epoch: 001 training acc: 0.7200000286102295, test acc: 0.6842105388641357, loss: 0.6093054413795471\n",
      "Epoch: 002 training acc: 0.7699999809265137, test acc: 0.6736842393875122, loss: 0.470833420753479\n",
      "Epoch: 003 training acc: 0.8600000143051147, test acc: 0.75789475440979, loss: 0.4240212142467499\n",
      "Epoch: 004 training acc: 0.7400000095367432, test acc: 0.7263157963752747, loss: 0.5472012162208557\n",
      "Epoch: 005 training acc: 0.8100000023841858, test acc: 0.7789473533630371, loss: 0.3791438937187195\n",
      "Epoch: 006 training acc: 0.8700000047683716, test acc: 0.75789475440979, loss: 0.3130000829696655\n",
      "Epoch: 007 training acc: 0.8600000143051147, test acc: 0.7789473533630371, loss: 0.275516152381897\n",
      "Epoch: 008 training acc: 0.8799999952316284, test acc: 0.7684210538864136, loss: 0.308289498090744\n",
      "Epoch: 009 training acc: 0.9200000166893005, test acc: 0.7684210538864136, loss: 0.20194478332996368\n",
      "Epoch: 010 training acc: 0.9100000262260437, test acc: 0.7684210538864136, loss: 0.2454923689365387\n",
      "Epoch: 011 training acc: 0.9300000071525574, test acc: 0.7684210538864136, loss: 0.20624548196792603\n",
      "Epoch: 012 training acc: 0.9300000071525574, test acc: 0.7368420958518982, loss: 0.13371138274669647\n",
      "Epoch: 013 training acc: 0.9700000286102295, test acc: 0.7473683953285217, loss: 0.11773493140935898\n",
      "Epoch: 014 training acc: 0.9700000286102295, test acc: 0.7789473533630371, loss: 0.08748612552881241\n",
      "Epoch: 015 training acc: 0.9700000286102295, test acc: 0.8105263113975525, loss: 0.1250636875629425\n",
      "Learning Finished!\n"
     ]
    }
   ],
   "source": [
    "acc, loss = net.fit(x_data=train_imgs,\n",
    "                    y_data=train_labels,\n",
    "                    batch_size=100,\n",
    "                    num_epochs=15,\n",
    "                    x_test=test_imgs,\n",
    "                    y_test=test_labels)"
   ]
  },
  {
   "cell_type": "code",
   "execution_count": null,
   "metadata": {},
   "outputs": [],
   "source": []
  },
  {
   "cell_type": "code",
   "execution_count": 9,
   "metadata": {},
   "outputs": [
    {
     "data": {
      "text/plain": [
       "0.8947368"
      ]
     },
     "execution_count": 9,
     "metadata": {},
     "output_type": "execute_result"
    }
   ],
   "source": [
    "net.compute_accuracy(x_data=test_imgs, y_data=test_labels)"
   ]
  },
  {
   "cell_type": "code",
   "execution_count": null,
   "metadata": {},
   "outputs": [],
   "source": []
  },
  {
   "cell_type": "code",
   "execution_count": 10,
   "metadata": {},
   "outputs": [
    {
     "name": "stdout",
     "output_type": "stream",
     "text": [
      "[[0.7530524  0.24694751]]\n",
      "[1. 0.]\n"
     ]
    },
    {
     "data": {
      "text/plain": [
       "<matplotlib.image.AxesImage at 0x14ff8add8>"
      ]
     },
     "execution_count": 10,
     "metadata": {},
     "output_type": "execute_result"
    },
    {
     "data": {
      "image/png": "[encoded data removed]",
      "text/plain": [
       "<Figure size 432x288 with 1 Axes>"
      ]
     },
     "metadata": {
      "needs_background": "light"
     },
     "output_type": "display_data"
    }
   ],
   "source": [
    "index = 18\n",
    "\n",
    "train_sample = train_imgs[index].reshape(1, 128, 128, 1)\n",
    "labl = train_labels[index]\n",
    "\n",
    "out = net.predict(x_data=train_sample)\n",
    "print(out)\n",
    "print(labl)\n",
    "\n",
    "plt.imshow(train_sample[0,:,:,0])"
   ]
  },
  {
   "cell_type": "code",
   "execution_count": null,
   "metadata": {},
   "outputs": [],
   "source": []
  },
  {
   "cell_type": "code",
   "execution_count": null,
   "metadata": {},
   "outputs": [],
   "source": []
  },
  {
   "cell_type": "code",
   "execution_count": null,
   "metadata": {},
   "outputs": [],
   "source": []
  },
  {
   "cell_type": "code",
   "execution_count": null,
   "metadata": {},
   "outputs": [],
   "source": [
    "\"\"\"\n",
    "1\n",
    "    Test accurancy: 0.894736\n",
    "    Train accurancy: 0.93999\n",
    "    Img size (128x128x1)\n",
    "    lr 0.0005\n",
    "    batch_size 100\n",
    "    num_epochs=10\n",
    "    keep_prob=0.7\n",
    "    \n",
    "\"\"\""
   ]
  },
  {
   "cell_type": "code",
   "execution_count": null,
   "metadata": {},
   "outputs": [],
   "source": []
  },
  {
   "cell_type": "code",
   "execution_count": null,
   "metadata": {},
   "outputs": [],
   "source": []
  },
  {
   "cell_type": "code",
   "execution_count": null,
   "metadata": {},
   "outputs": [],
   "source": []
  },
  {
   "cell_type": "code",
   "execution_count": null,
   "metadata": {},
   "outputs": [],
   "source": []
  },
  {
   "cell_type": "code",
   "execution_count": null,
   "metadata": {},
   "outputs": [],
   "source": []
  }
 ],
 "metadata": {
  "kernelspec": {
   "display_name": "Python 3",
   "language": "python",
   "name": "python3"
  },
  "language_info": {
   "codemirror_mode": {
    "name": "ipython",
    "version": 3
   },
   "file_extension": ".py",
   "mimetype": "text/x-python",
   "name": "python",
   "nbconvert_exporter": "python",
   "pygments_lexer": "ipython3",
   "version": "3.6.7"
  }
 },
 "nbformat": 4,
 "nbformat_minor": 4
}
