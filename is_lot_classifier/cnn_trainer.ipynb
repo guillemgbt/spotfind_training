{
 "cells": [
  {
   "cell_type": "code",
   "execution_count": 1,
   "metadata": {},
   "outputs": [],
   "source": [
    "import tensorflow as tf\n",
    "from tensorflow.contrib.layers import flatten\n",
    "import matplotlib.pyplot as plt\n",
    "import numpy as np\n",
    "import pandas as pd\n",
    "import os\n",
    "import cv2\n",
    "from sklearn.utils import shuffle\n",
    "import matplotlib.image as mpimg \n",
    "import matplotlib.pyplot as plt\n",
    "from sklearn.preprocessing import OneHotEncoder \n",
    "import time"
   ]
  },
  {
   "cell_type": "code",
   "execution_count": null,
   "metadata": {},
   "outputs": [],
   "source": []
  },
  {
   "cell_type": "code",
   "execution_count": 2,
   "metadata": {},
   "outputs": [],
   "source": [
    "class DatasetParser():\n",
    "    def __init__(self):\n",
    "        self.csv_path = 'IsLotDataset/path_and_labels.csv'\n",
    "        self.IMAGE_PATH_KEY = 'image_path'\n",
    "        self.IS_LOT_KEY = 'is_lot'\n",
    "        self.split = 1000\n",
    "       \n",
    "    \n",
    "    def load(self):\n",
    "        df = self.load_origin_dataframe()\n",
    "        image_paths = df[self.IMAGE_PATH_KEY].tolist()\n",
    "        images = np.array([mpimg.imread('IsLotDataset/'+path)/255.0 for path in image_paths])\n",
    "        images = images.reshape(images.shape[0],images.shape[1],images.shape[2],1)\n",
    "        labels = np.array(df[self.IS_LOT_KEY].tolist())\n",
    "        labels = labels.reshape(len(labels),1)\n",
    "        images, labels = self.unison_shuffled_copies(images, labels)\n",
    "        onehotencoder = OneHotEncoder()\n",
    "        labels = onehotencoder.fit_transform(labels).toarray()\n",
    "        return (images[0:self.split], labels[0:self.split], images[self.split:], labels[self.split:])\n",
    "    \n",
    "    def unison_shuffled_copies(self, a, b):\n",
    "        assert len(a) == len(b)\n",
    "        p = np.random.permutation(len(a))\n",
    "        return a[p], b[p]\n",
    "\n",
    "        \n",
    "    def load_origin_dataframe(self):\n",
    "        if os.path.exists(self.csv_path):\n",
    "            df = pd.read_csv(self.csv_path, sep=',')\n",
    "            return df\n",
    "        else:\n",
    "            print('Could not load '+ORIGIN_CSV)\n",
    "            return None\n",
    "        "
   ]
  },
  {
   "cell_type": "code",
   "execution_count": 3,
   "metadata": {},
   "outputs": [],
   "source": [
    "parser = DatasetParser()\n",
    "\n",
    "(train_imgs, train_labels, test_imgs, test_labels) = parser.load()"
   ]
  },
  {
   "cell_type": "code",
   "execution_count": 4,
   "metadata": {},
   "outputs": [
    {
     "name": "stdout",
     "output_type": "stream",
     "text": [
      "\n",
      "X daya Shape: (1000, 128, 128, 1)\n",
      "Image Shape: (128, 128, 1)\n",
      "Y data Shape: (1000, 2)\n",
      "Label Shape: (2,)\n",
      "\n",
      "Training Set:   1000 samples\n",
      "Test Set:       95 samples\n"
     ]
    }
   ],
   "source": [
    "print()\n",
    "print(\"X daya Shape: {}\".format(train_imgs.shape))\n",
    "print(\"Image Shape: {}\".format(train_imgs[0].shape))\n",
    "print(\"Y data Shape: {}\".format(train_labels.shape))\n",
    "print(\"Label Shape: {}\".format(train_labels[0].shape))\n",
    "print()\n",
    "print(\"Training Set:   {} samples\".format(len(train_imgs)))\n",
    "print(\"Test Set:       {} samples\".format(len(test_imgs)))"
   ]
  },
  {
   "cell_type": "code",
   "execution_count": 5,
   "metadata": {},
   "outputs": [],
   "source": [
    "class ImprovedLenet5():\n",
    "\n",
    "    def __init__(self, classes, learning_rate=0.0005):\n",
    "\n",
    "        tf.reset_default_graph()\n",
    "        \n",
    "        self.learning_rate = learning_rate\n",
    "        self.X = tf.placeholder(tf.float32, (None, 128, 128, 1), name='input')\n",
    "        self.Y = tf.placeholder(tf.float32, [None, classes], name='labels')\n",
    "        self.keep_prob = tf.placeholder(tf.float32, name='keep_prob')\n",
    "\n",
    "        mu = 0\n",
    "        sigma = 0.1\n",
    "\n",
    "        #Layer 1: Convolutional. Input = 128x128x1. Output = 124x124x8.\n",
    "        conv1_w = tf.Variable(tf.truncated_normal(shape = [5,5,1,8],mean = mu, stddev = sigma))\n",
    "        conv1_b = tf.Variable(tf.zeros(8))\n",
    "        conv1 = tf.nn.conv2d(self.X,conv1_w, strides = [1,1,1,1], padding = 'VALID') + conv1_b \n",
    "        conv1 = tf.nn.relu(conv1)\n",
    "\n",
    "        #Pooling. Input = 124x124x8. Output = 62x62x8.\n",
    "        pool_1 = tf.nn.max_pool(conv1,ksize = [1,2,2,1], strides = [1,2,2,1], padding = 'VALID')\n",
    "\n",
    "        #Layer 2: Convolutional. Output = 58x58x16.\n",
    "        conv2_w = tf.Variable(tf.truncated_normal(shape = [5,5,8,16], mean = mu, stddev = sigma))\n",
    "        conv2_b = tf.Variable(tf.zeros(16))\n",
    "        conv2 = tf.nn.conv2d(pool_1, conv2_w, strides = [1,1,1,1], padding = 'VALID') + conv2_b\n",
    "        conv2 = tf.nn.relu(conv2)\n",
    "\n",
    "        #Pooling. Input = 58x58x16. Output = 29x29x16.\n",
    "        pool_2 = tf.nn.max_pool(conv2, ksize = [1,2,2,1], strides = [1,2,2,1], padding = 'VALID') \n",
    "\n",
    "        #Flatten. Input = 13x13x16. Output = 13456.\n",
    "        fc1 = flatten(pool_2)\n",
    "\n",
    "        #Layer 3: Fully Connected. Input = 2.704. Output = 256.\n",
    "        fc1_w = tf.get_variable(\"fc1_w\", shape=[13456,256],\n",
    "                                initializer=tf.contrib.layers.xavier_initializer())\n",
    "        fc1_b = tf.Variable(tf.zeros(256))\n",
    "        fc1 = tf.matmul(fc1,fc1_w) + fc1_b\n",
    "        fc1 = tf.nn.relu(fc1)\n",
    "        fc1 = tf.nn.dropout(fc1, self.keep_prob)\n",
    "        \n",
    "\n",
    "        #Layer 4: Fully Connected. Input = 256. Output = 128.\n",
    "        fc2_w = tf.get_variable(\"fc2_w\", shape=[256,128],\n",
    "                                initializer=tf.contrib.layers.xavier_initializer())\n",
    "        fc2_b = tf.Variable(tf.zeros(128))\n",
    "        fc2 = tf.matmul(fc1,fc2_w) + fc2_b\n",
    "        fc2 = tf.nn.relu(fc2)\n",
    "        fc2 = tf.nn.dropout(fc2, self.keep_prob)\n",
    "\n",
    "        #Layer 5: Fully Connected. Input = 128. Output = 64.\n",
    "        fc3_w = tf.get_variable(\"fc3_w\", shape=[128,64],\n",
    "                                initializer=tf.contrib.layers.xavier_initializer())\n",
    "        fc3_b = tf.Variable(tf.zeros(64))\n",
    "        fc3 = tf.matmul(fc2,fc3_w) + fc3_b\n",
    "        fc3 = tf.nn.relu(fc3)\n",
    "        fc3 = tf.nn.dropout(fc3, self.keep_prob)\n",
    "\n",
    "        #Layer 6: Fully Connected. Input = 64. Output = classes.\n",
    "        fc4_w = tf.get_variable(\"fc4_w\", shape=[64,classes],\n",
    "                                initializer=tf.contrib.layers.xavier_initializer())\n",
    "        fc4_b = tf.Variable(tf.zeros(classes))\n",
    "        self.logits = tf.matmul(fc3, fc4_w) + fc4_b\n",
    "        self.output = tf.nn.softmax(self.logits, axis=1)\n",
    "        self.output = tf.identity(self.output, name=\"output\")\n",
    "\n",
    "        cross_entropy = tf.nn.softmax_cross_entropy_with_logits(logits=self.logits, labels=self.Y)\n",
    "        self.loss_operation = tf.reduce_mean(cross_entropy)\n",
    "        optimizer = tf.train.AdamOptimizer(learning_rate = self.learning_rate)\n",
    "        self.training_operation = optimizer.minimize(self.loss_operation)\n",
    "\n",
    "        correct_prediction = tf.equal(tf.argmax(self.logits, axis=1), tf.argmax(self.Y, axis=1))\n",
    "        self.accuracy = tf.reduce_mean(tf.cast(correct_prediction, tf.float32))\n",
    "        \n",
    "        self.session = tf.Session()\n",
    "        self.saver = tf.train.Saver()\n",
    "        self.session.run(tf.global_variables_initializer())\n",
    "\n",
    "        tf.train.write_graph(self.session.graph_def, \"./export\", \"network.pb\", False)\n",
    "\n",
    "\n",
    "    def fit(self, x_data, y_data, batch_size, num_epochs, x_test, y_test):\n",
    "        \n",
    "        num_iterations = int(x_data.shape[0]/batch_size)\n",
    "        historic_accuracy = np.zeros(num_epochs)\n",
    "        historic_accuracy_test = np.zeros(num_epochs)\n",
    "        historic_loss = np.zeros(num_epochs)\n",
    "\n",
    "        print(\"Training...\")\n",
    "        print()\n",
    "        for epoch in range(num_epochs):\n",
    "            x_data_s, y_data_s = shuffle(x_data, y_data)\n",
    "\n",
    "            for iteration in range(num_iterations):\n",
    "                batch_xs = x_data_s[iteration*batch_size:(iteration+1)*batch_size,:]\n",
    "                batch_ys = y_data_s[iteration*batch_size:(iteration+1)*batch_size,:]\n",
    "                _ = self.session.run([self.training_operation], feed_dict={self.X: batch_xs, self.Y: batch_ys, self.keep_prob: 0.7})\n",
    "            \n",
    "            accuracy_val, loss_val = self.session.run([self.accuracy, self.loss_operation], feed_dict={self.X: batch_xs, self.Y: batch_ys, self.keep_prob: 1.0})\n",
    "            historic_accuracy[epoch] = accuracy_val\n",
    "            historic_loss[epoch] = loss_val\n",
    "            historic_accuracy_test[epoch] = self.compute_accuracy(x_test, y_test)\n",
    "            print('Epoch:', '%03d' % (epoch + 1), 'training acc: {}, test acc: {}, loss: {}'.format(accuracy_val, historic_accuracy_test[epoch], loss_val))\n",
    "\n",
    "        print(\"Learning Finished!\")\n",
    "        self.saver.save(self.session, \"./export/is_lot_checkpoints\")\n",
    "        return historic_accuracy, historic_accuracy_test, historic_loss\n",
    "\n",
    "    def predict(self, x_data):\n",
    "        output_values = self.session.run(tf.nn.softmax(self.logits, axis=1), feed_dict={self.X: x_data, self.keep_prob: 1.0})\n",
    "        return output_values\n",
    "\n",
    "    def compute_accuracy(self, x_data, y_data):\n",
    "        accuracy_val = self.session.run(self.accuracy, feed_dict={self.X: x_data, self.Y: y_data, self.keep_prob: 1.0})\n",
    "        return accuracy_val\n",
    "    \n",
    "    def speed_test(self, x_data):\n",
    "        time1 = time.time()\n",
    "        [self.predict(image.reshape(1,image.shape[0],image.shape[1],image.shape[2])) for image in x_data]\n",
    "        enlapsed = (time.time()-time1)*1000\n",
    "        print('Test took {:.3f} ms to predict {} images'.format(enlapsed, len(x_data)))\n",
    "        print('Single inference took {:.3f} ms'.format(enlapsed/len(x_data)))\n"
   ]
  },
  {
   "cell_type": "code",
   "execution_count": 6,
   "metadata": {},
   "outputs": [
    {
     "name": "stdout",
     "output_type": "stream",
     "text": [
      "WARNING:tensorflow:From /Users/guillemgbt/Development/Thesis/thesis_env/lib/python3.6/site-packages/tensorflow/contrib/layers/python/layers/layers.py:1634: flatten (from tensorflow.python.layers.core) is deprecated and will be removed in a future version.\n",
      "Instructions for updating:\n",
      "Use keras.layers.flatten instead.\n",
      "WARNING:tensorflow:Entity <bound method Flatten.call of <tensorflow.python.layers.core.Flatten object at 0x14806d780>> could not be transformed and will be executed as-is. Please report this to the AutgoGraph team. When filing the bug, set the verbosity to 10 (on Linux, `export AUTOGRAPH_VERBOSITY=10`) and attach the full output. Cause: converting <bound method Flatten.call of <tensorflow.python.layers.core.Flatten object at 0x14806d780>>: AttributeError: module 'gast' has no attribute 'Num'\n",
      "WARNING: Entity <bound method Flatten.call of <tensorflow.python.layers.core.Flatten object at 0x14806d780>> could not be transformed and will be executed as-is. Please report this to the AutgoGraph team. When filing the bug, set the verbosity to 10 (on Linux, `export AUTOGRAPH_VERBOSITY=10`) and attach the full output. Cause: converting <bound method Flatten.call of <tensorflow.python.layers.core.Flatten object at 0x14806d780>>: AttributeError: module 'gast' has no attribute 'Num'\n",
      "WARNING:tensorflow:From <ipython-input-5-0aaeebbddf03>:42: calling dropout (from tensorflow.python.ops.nn_ops) with keep_prob is deprecated and will be removed in a future version.\n",
      "Instructions for updating:\n",
      "Please use `rate` instead of `keep_prob`. Rate should be set to `rate = 1 - keep_prob`.\n",
      "WARNING:tensorflow:From <ipython-input-5-0aaeebbddf03>:69: softmax_cross_entropy_with_logits (from tensorflow.python.ops.nn_ops) is deprecated and will be removed in a future version.\n",
      "Instructions for updating:\n",
      "\n",
      "Future major versions of TensorFlow will allow gradients to flow\n",
      "into the labels input on backprop by default.\n",
      "\n",
      "See `tf.nn.softmax_cross_entropy_with_logits_v2`.\n",
      "\n"
     ]
    }
   ],
   "source": [
    "net = ImprovedLenet5(classes=2, learning_rate=0.0004)"
   ]
  },
  {
   "cell_type": "code",
   "execution_count": null,
   "metadata": {},
   "outputs": [],
   "source": []
  },
  {
   "cell_type": "code",
   "execution_count": 7,
   "metadata": {},
   "outputs": [
    {
     "name": "stdout",
     "output_type": "stream",
     "text": [
      "Training...\n",
      "\n",
      "Epoch: 001 training acc: 0.6549999713897705, test acc: 0.6842105388641357, loss: 0.6014127731323242\n",
      "Epoch: 002 training acc: 0.7149999737739563, test acc: 0.800000011920929, loss: 0.6255220770835876\n",
      "Epoch: 003 training acc: 0.7300000190734863, test acc: 0.7789473533630371, loss: 0.587007462978363\n",
      "Epoch: 004 training acc: 0.7599999904632568, test acc: 0.7684210538864136, loss: 0.5041592121124268\n",
      "Epoch: 005 training acc: 0.7699999809265137, test acc: 0.821052610874176, loss: 0.4738016426563263\n",
      "Epoch: 006 training acc: 0.8100000023841858, test acc: 0.8105263113975525, loss: 0.4120982885360718\n",
      "Epoch: 007 training acc: 0.8399999737739563, test acc: 0.8315789699554443, loss: 0.35456544160842896\n",
      "Epoch: 008 training acc: 0.8149999976158142, test acc: 0.8315789699554443, loss: 0.3837119936943054\n",
      "Epoch: 009 training acc: 0.8450000286102295, test acc: 0.8421052694320679, loss: 0.3513893783092499\n",
      "Epoch: 010 training acc: 0.8700000047683716, test acc: 0.8315789699554443, loss: 0.31296229362487793\n",
      "Epoch: 011 training acc: 0.8500000238418579, test acc: 0.8315789699554443, loss: 0.3336949050426483\n",
      "Epoch: 012 training acc: 0.875, test acc: 0.8631578683853149, loss: 0.29808491468429565\n",
      "Learning Finished!\n"
     ]
    }
   ],
   "source": [
    "acc, acc_test, loss = net.fit(x_data=train_imgs,\n",
    "                              y_data=train_labels,\n",
    "                              batch_size=200,\n",
    "                              num_epochs=12,\n",
    "                              x_test=test_imgs,\n",
    "                              y_test=test_labels)"
   ]
  },
  {
   "cell_type": "code",
   "execution_count": 8,
   "metadata": {},
   "outputs": [
    {
     "data": {
      "text/plain": [
       "<matplotlib.legend.Legend at 0x14d4d07f0>"
      ]
     },
     "execution_count": 8,
     "metadata": {},
     "output_type": "execute_result"
    },
    {
     "data": {
      "image/png": "[encoded data removed]",
      "text/plain": [
       "<Figure size 432x288 with 1 Axes>"
      ]
     },
     "metadata": {
      "needs_background": "light"
     },
     "output_type": "display_data"
    }
   ],
   "source": [
    "plt.plot(acc, label='Train Acc')\n",
    "plt.plot(acc_test, label='Test Acc')\n",
    "plt.legend(loc=\"upper left\")"
   ]
  },
  {
   "cell_type": "code",
   "execution_count": null,
   "metadata": {},
   "outputs": [],
   "source": []
  },
  {
   "cell_type": "code",
   "execution_count": null,
   "metadata": {},
   "outputs": [],
   "source": []
  },
  {
   "cell_type": "code",
   "execution_count": 9,
   "metadata": {},
   "outputs": [
    {
     "name": "stdout",
     "output_type": "stream",
     "text": [
      "[[0.01960961 0.98039037]]\n",
      "[0. 1.]\n"
     ]
    },
    {
     "data": {
      "text/plain": [
       "<matplotlib.image.AxesImage at 0x14c633ac8>"
      ]
     },
     "execution_count": 9,
     "metadata": {},
     "output_type": "execute_result"
    },
    {
     "data": {
      "image/png": "[encoded data removed]",
      "text/plain": [
       "<Figure size 432x288 with 1 Axes>"
      ]
     },
     "metadata": {
      "needs_background": "light"
     },
     "output_type": "display_data"
    }
   ],
   "source": [
    "index = 32\n",
    "\n",
    "sample = test_imgs[index].reshape(1, 128, 128, 1)\n",
    "labl = test_labels[index]\n",
    "\n",
    "out = net.predict(x_data=sample)\n",
    "print(out)\n",
    "print(labl)\n",
    "\n",
    "plt.imshow(sample[0,:,:,0])"
   ]
  },
  {
   "cell_type": "code",
   "execution_count": null,
   "metadata": {},
   "outputs": [],
   "source": []
  },
  {
   "cell_type": "code",
   "execution_count": 10,
   "metadata": {},
   "outputs": [
    {
     "name": "stdout",
     "output_type": "stream",
     "text": [
      "Test took 3843.686 ms to predict 95 images\n",
      "Single inference took 40.460 ms\n"
     ]
    }
   ],
   "source": [
    "net.speed_test(x_data=test_imgs)"
   ]
  },
  {
   "cell_type": "code",
   "execution_count": null,
   "metadata": {},
   "outputs": [],
   "source": []
  },
  {
   "cell_type": "code",
   "execution_count": 11,
   "metadata": {},
   "outputs": [
    {
     "name": "stdout",
     "output_type": "stream",
     "text": [
      "WARNING:tensorflow:From /Users/guillemgbt/Development/Thesis/Training/is_lot_classifier/freeze_graph.py:127: checkpoint_exists (from tensorflow.python.training.checkpoint_management) is deprecated and will be removed in a future version.\n",
      "Instructions for updating:\n",
      "Use standard file APIs to check for files with this prefix.\n",
      "INFO:tensorflow:Restoring parameters from export/is_lot_checkpoints\n",
      "WARNING:tensorflow:From /Users/guillemgbt/Development/Thesis/Training/is_lot_classifier/freeze_graph.py:233: convert_variables_to_constants (from tensorflow.python.framework.graph_util_impl) is deprecated and will be removed in a future version.\n",
      "Instructions for updating:\n",
      "Use `tf.compat.v1.graph_util.convert_variables_to_constants`\n",
      "WARNING:tensorflow:From /Users/guillemgbt/Development/Thesis/thesis_env/lib/python3.6/site-packages/tensorflow/python/framework/graph_util_impl.py:270: extract_sub_graph (from tensorflow.python.framework.graph_util_impl) is deprecated and will be removed in a future version.\n",
      "Instructions for updating:\n",
      "Use `tf.compat.v1.graph_util.extract_sub_graph`\n",
      "INFO:tensorflow:Froze 12 variables.\n",
      "INFO:tensorflow:Converted 12 variables to const ops.\n"
     ]
    }
   ],
   "source": [
    "import freeze_graph\n",
    "\n",
    "_ = freeze_graph.freeze_graph(input_graph='export/network.pb',\n",
    "                                  input_saver='',\n",
    "                                  input_binary=True,\n",
    "                                  input_checkpoint='export/is_lot_checkpoints',\n",
    "                                  output_node_names='output',\n",
    "                                  restore_op_name='save/restore_all',\n",
    "                                  filename_tensor_name='save/Const:0',\n",
    "                                  output_graph='export/is_lot_frozen_network.pb',\n",
    "                                  clear_devices=True, \n",
    "                                  initializer_nodes='')"
   ]
  },
  {
   "cell_type": "code",
   "execution_count": null,
   "metadata": {},
   "outputs": [],
   "source": []
  },
  {
   "cell_type": "code",
   "execution_count": null,
   "metadata": {},
   "outputs": [],
   "source": []
  },
  {
   "cell_type": "code",
   "execution_count": null,
   "metadata": {},
   "outputs": [],
   "source": [
    "class _IsLotCNN(object):\n",
    "\n",
    "    def __init__(self, model_filepath='export/is_lot_frozen_network.pb'):\n",
    "        self.model_filepath = model_filepath\n",
    "        self.load_graph(model_filepath = self.model_filepath)\n",
    "\n",
    "    def load_graph(self, model_filepath):\n",
    "        self.graph = tf.Graph()\n",
    "        self.sess = tf.InteractiveSession(graph = self.graph)\n",
    "\n",
    "        with tf.gfile.GFile(model_filepath, 'rb') as f:\n",
    "            graph_def = tf.GraphDef()\n",
    "            graph_def.ParseFromString(f.read())\n",
    "\n",
    "        # Define input tensor\n",
    "        self.input = tf.placeholder(np.float32, shape = [None, 128, 128, 1], name='input')\n",
    "        self.keep_prob = tf.placeholder(tf.float32, name='keep_prob')\n",
    "\n",
    "        tf.import_graph_def(graph_def, {'input': self.input, 'keep_prob': self.keep_prob})\n",
    "\n",
    "    def predict(self, data):\n",
    "\n",
    "        # Know your output node name\n",
    "        output_tensor = self.graph.get_tensor_by_name(\"import/output:0\")\n",
    "        output = self.sess.run(output_tensor, feed_dict = {self.input: data, self.keep_prob: 1.0})\n",
    "\n",
    "        return output"
   ]
  },
  {
   "cell_type": "code",
   "execution_count": null,
   "metadata": {},
   "outputs": [],
   "source": [
    "cnn = _IsLotCNN()"
   ]
  },
  {
   "cell_type": "code",
   "execution_count": null,
   "metadata": {},
   "outputs": [],
   "source": []
  },
  {
   "cell_type": "code",
   "execution_count": null,
   "metadata": {},
   "outputs": [],
   "source": []
  },
  {
   "cell_type": "code",
   "execution_count": null,
   "metadata": {},
   "outputs": [],
   "source": [
    "\n"
   ]
  },
  {
   "cell_type": "code",
   "execution_count": 12,
   "metadata": {},
   "outputs": [],
   "source": []
  },
  {
   "cell_type": "code",
   "execution_count": 13,
   "metadata": {},
   "outputs": [
    {
     "name": "stdout",
     "output_type": "stream",
     "text": [
      "WARNING:tensorflow:From /Users/guillemgbt/Development/Thesis/Training/is_lot_classifier/is_lot_cnn.py:13: The name tf.InteractiveSession is deprecated. Please use tf.compat.v1.InteractiveSession instead.\n",
      "\n",
      "WARNING:tensorflow:From /Users/guillemgbt/Development/Thesis/Training/is_lot_classifier/is_lot_cnn.py:15: The name tf.gfile.GFile is deprecated. Please use tf.io.gfile.GFile instead.\n",
      "\n",
      "WARNING:tensorflow:From /Users/guillemgbt/Development/Thesis/Training/is_lot_classifier/is_lot_cnn.py:16: The name tf.GraphDef is deprecated. Please use tf.compat.v1.GraphDef instead.\n",
      "\n",
      "WARNING:tensorflow:From /Users/guillemgbt/Development/Thesis/Training/is_lot_classifier/is_lot_cnn.py:19: The name tf.placeholder is deprecated. Please use tf.compat.v1.placeholder instead.\n",
      "\n"
     ]
    }
   ],
   "source": []
  },
  {
   "cell_type": "code",
   "execution_count": 14,
   "metadata": {},
   "outputs": [
    {
     "data": {
      "text/plain": [
       "array([[0.01960961, 0.98039037]], dtype=float32)"
      ]
     },
     "execution_count": 14,
     "metadata": {},
     "output_type": "execute_result"
    }
   ],
   "source": []
  },
  {
   "cell_type": "code",
   "execution_count": null,
   "metadata": {},
   "outputs": [],
   "source": []
  },
  {
   "cell_type": "code",
   "execution_count": 23,
   "metadata": {},
   "outputs": [],
   "source": []
  },
  {
   "cell_type": "code",
   "execution_count": null,
   "metadata": {},
   "outputs": [],
   "source": [
    "from is_lot_cnn import IsLotCNN\n",
    "lotCNN = IsLotCNN()\n",
    "lotCNN.predict(sample)"
   ]
  },
  {
   "cell_type": "code",
   "execution_count": 24,
   "metadata": {},
   "outputs": [
    {
     "name": "stderr",
     "output_type": "stream",
     "text": [
      "/Users/guillemgbt/Development/Thesis/thesis_env/lib/python3.6/site-packages/tensorflow/python/client/session.py:1735: UserWarning: An interactive session is already active. This can cause out-of-memory errors in some cases. You must explicitly call `InteractiveSession.close()` to release resources held by the other session(s).\n",
      "  warnings.warn('An interactive session is already active. This can '\n"
     ]
    }
   ],
   "source": []
  },
  {
   "cell_type": "code",
   "execution_count": 25,
   "metadata": {},
   "outputs": [
    {
     "data": {
      "text/plain": [
       "array([[0.13109161, 0.86890846]], dtype=float32)"
      ]
     },
     "execution_count": 25,
     "metadata": {},
     "output_type": "execute_result"
    }
   ],
   "source": []
  },
  {
   "cell_type": "code",
   "execution_count": 18,
   "metadata": {},
   "outputs": [],
   "source": []
  },
  {
   "cell_type": "code",
   "execution_count": null,
   "metadata": {},
   "outputs": [],
   "source": []
  },
  {
   "cell_type": "code",
   "execution_count": null,
   "metadata": {},
   "outputs": [],
   "source": []
  },
  {
   "cell_type": "code",
   "execution_count": null,
   "metadata": {},
   "outputs": [],
   "source": []
  },
  {
   "cell_type": "code",
   "execution_count": null,
   "metadata": {},
   "outputs": [],
   "source": []
  },
  {
   "cell_type": "code",
   "execution_count": null,
   "metadata": {},
   "outputs": [],
   "source": []
  },
  {
   "cell_type": "code",
   "execution_count": 20,
   "metadata": {},
   "outputs": [
    {
     "name": "stdout",
     "output_type": "stream",
     "text": [
      "load graph\n",
      "WARNING:tensorflow:From <ipython-input-20-f7c84d7df431>:8: FastGFile.__init__ (from tensorflow.python.platform.gfile) is deprecated and will be removed in a future version.\n",
      "Instructions for updating:\n",
      "Use tf.gfile.GFile.\n"
     ]
    }
   ],
   "source": []
  },
  {
   "cell_type": "code",
   "execution_count": null,
   "metadata": {},
   "outputs": [],
   "source": []
  },
  {
   "cell_type": "code",
   "execution_count": 13,
   "metadata": {},
   "outputs": [],
   "source": []
  },
  {
   "cell_type": "code",
   "execution_count": 14,
   "metadata": {},
   "outputs": [],
   "source": []
  },
  {
   "cell_type": "code",
   "execution_count": 15,
   "metadata": {},
   "outputs": [
    {
     "data": {
      "text/plain": [
       "array([[0.13109161, 0.86890846]], dtype=float32)"
      ]
     },
     "execution_count": 15,
     "metadata": {},
     "output_type": "execute_result"
    }
   ],
   "source": []
  },
  {
   "cell_type": "code",
   "execution_count": 31,
   "metadata": {},
   "outputs": [
    {
     "data": {
      "text/plain": [
       "(1, 128, 128, 1)"
      ]
     },
     "execution_count": 31,
     "metadata": {},
     "output_type": "execute_result"
    }
   ],
   "source": []
  },
  {
   "cell_type": "code",
   "execution_count": null,
   "metadata": {},
   "outputs": [],
   "source": []
  },
  {
   "cell_type": "code",
   "execution_count": null,
   "metadata": {},
   "outputs": [],
   "source": []
  },
  {
   "cell_type": "code",
   "execution_count": null,
   "metadata": {},
   "outputs": [],
   "source": []
  },
  {
   "cell_type": "code",
   "execution_count": 40,
   "metadata": {},
   "outputs": [
    {
     "data": {
      "text/plain": [
       "0.8526315789473684"
      ]
     },
     "execution_count": 40,
     "metadata": {},
     "output_type": "execute_result"
    }
   ],
   "source": []
  },
  {
   "cell_type": "code",
   "execution_count": null,
   "metadata": {},
   "outputs": [],
   "source": []
  },
  {
   "cell_type": "code",
   "execution_count": null,
   "metadata": {},
   "outputs": [],
   "source": []
  },
  {
   "cell_type": "code",
   "execution_count": null,
   "metadata": {},
   "outputs": [],
   "source": []
  },
  {
   "cell_type": "code",
   "execution_count": null,
   "metadata": {},
   "outputs": [],
   "source": []
  },
  {
   "cell_type": "code",
   "execution_count": null,
   "metadata": {},
   "outputs": [],
   "source": []
  },
  {
   "cell_type": "code",
   "execution_count": null,
   "metadata": {},
   "outputs": [],
   "source": []
  },
  {
   "cell_type": "code",
   "execution_count": null,
   "metadata": {},
   "outputs": [],
   "source": []
  }
 ],
 "metadata": {
  "kernelspec": {
   "display_name": "Python 3",
   "language": "python",
   "name": "python3"
  },
  "language_info": {
   "codemirror_mode": {
    "name": "ipython",
    "version": 3
   },
   "file_extension": ".py",
   "mimetype": "text/x-python",
   "name": "python",
   "nbconvert_exporter": "python",
   "pygments_lexer": "ipython3",
   "version": "3.6.7"
  }
 },
 "nbformat": 4,
 "nbformat_minor": 4
}
